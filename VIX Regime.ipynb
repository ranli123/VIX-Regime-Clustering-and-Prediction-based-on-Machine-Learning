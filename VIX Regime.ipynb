{
 "cells": [
  {
   "cell_type": "code",
   "execution_count": 1,
   "id": "343c7dcc",
   "metadata": {},
   "outputs": [],
   "source": [
    "import pandas as pd\n",
    "import numpy as np\n",
    "from sklearn.mixture import GaussianMixture\n",
    "from statistics import NormalDist\n",
    "from genetic_algorithm import GeneticAlgorithm as GA"
   ]
  },
  {
   "cell_type": "code",
   "execution_count": 2,
   "id": "03f2787b",
   "metadata": {},
   "outputs": [
    {
     "name": "stdout",
     "output_type": "stream",
     "text": [
      "         Adj Close\n",
      "1990-01  25.360001\n",
      "1990-02  21.990000\n",
      "1990-03  19.730000\n",
      "1990-04  19.520000\n",
      "1990-05  17.370001\n",
      "...            ...\n",
      "2019-08  18.980000\n",
      "2019-09  16.240000\n",
      "2019-10  13.220000\n",
      "2019-11  12.620000\n",
      "2019-12  13.780000\n",
      "\n",
      "[360 rows x 1 columns]\n"
     ]
    }
   ],
   "source": [
    "data = pd.read_pickle(\"MVIX.pkl\")\n",
    "print(data)\n",
    "data.reset_index(drop=True, inplace = True)\n",
    "data = np.log(data).diff()[1:].to_numpy()"
   ]
  },
  {
   "cell_type": "code",
   "execution_count": 3,
   "id": "c678fa71",
   "metadata": {},
   "outputs": [
    {
     "name": "stdout",
     "output_type": "stream",
     "text": [
      "[-0.4859671]\n",
      "[0.85258795]\n"
     ]
    }
   ],
   "source": [
    "print(min(data))\n",
    "print(max(data))"
   ]
  },
  {
   "cell_type": "code",
   "execution_count": 4,
   "id": "e3aeecaa",
   "metadata": {},
   "outputs": [],
   "source": [
    "from sklearn.mixture import GaussianMixture\n",
    "gm = GaussianMixture(n_components=3, random_state=0).fit(data)\n",
    "weights = gm.weights_\n",
    "mean = gm.means_\n",
    "sigma = np.sqrt(gm.covariances_)\n",
    "weight = gm.weights_"
   ]
  },
  {
   "cell_type": "code",
   "execution_count": 5,
   "id": "f16f93c2",
   "metadata": {},
   "outputs": [],
   "source": [
    "sigma = sigma.reshape(3, 1)"
   ]
  },
  {
   "cell_type": "code",
   "execution_count": 6,
   "id": "54d48952",
   "metadata": {},
   "outputs": [
    {
     "name": "stdout",
     "output_type": "stream",
     "text": [
      "(48,) (49,)\n"
     ]
    }
   ],
   "source": [
    "M = 48\n",
    "N = data.shape[0]\n",
    "k = 3\n",
    "hist = np.histogram(data, bins = M)\n",
    "phat = hist[0]/N\n",
    "boundaries = hist[1]\n",
    "print(phat.shape, boundaries.shape)"
   ]
  },
  {
   "cell_type": "code",
   "execution_count": 7,
   "id": "6a67aaa9",
   "metadata": {},
   "outputs": [],
   "source": [
    "def objective(theta, lbda):\n",
    "    s = 0\n",
    "    for j in range(M):\n",
    "        up = 0\n",
    "        for i in range(k):\n",
    "            Mu, Sigma, Pi = theta[i]\n",
    "            dist = NormalDist(mu = Mu, sigma = Sigma)\n",
    "            up += Pi * (dist.cdf(boundaries[j+1]) - dist.cdf(boundaries[j]))\n",
    "        if (phat[j] > 0.0 and up > 0.0):\n",
    "            s += phat[j] * np.log(up/phat[j])\n",
    "    first = -2 * N * s\n",
    "    second = lbda * abs(np.sum(theta[:,2]) - 1)\n",
    "   #print (np.sum(theta[:,2]))\n",
    "    return first + second\n",
    "\n",
    "def lagrange(params):\n",
    "    theta = np.zeros((k,3))\n",
    "    lmbda = params[-1]\n",
    "    for i in range(k):\n",
    "        theta[i][0] = params[3*i]\n",
    "        theta[i][1] = params[3*i+1]\n",
    "        theta[i][2] = params[3*i+2]\n",
    "    res = objective(theta, lmbda)\n",
    "    return res"
   ]
  },
  {
   "cell_type": "code",
   "execution_count": 8,
   "id": "4195497a",
   "metadata": {},
   "outputs": [
    {
     "data": {
      "text/html": [
       "<div>\n",
       "<style scoped>\n",
       "    .dataframe tbody tr th:only-of-type {\n",
       "        vertical-align: middle;\n",
       "    }\n",
       "\n",
       "    .dataframe tbody tr th {\n",
       "        vertical-align: top;\n",
       "    }\n",
       "\n",
       "    .dataframe thead th {\n",
       "        text-align: right;\n",
       "    }\n",
       "</style>\n",
       "<table border=\"1\" class=\"dataframe\">\n",
       "  <thead>\n",
       "    <tr style=\"text-align: right;\">\n",
       "      <th></th>\n",
       "      <th>0</th>\n",
       "      <th>1</th>\n",
       "    </tr>\n",
       "  </thead>\n",
       "  <tbody>\n",
       "    <tr>\n",
       "      <th>0</th>\n",
       "      <td>-1.00000</td>\n",
       "      <td>1.00</td>\n",
       "    </tr>\n",
       "    <tr>\n",
       "      <th>1</th>\n",
       "      <td>0.00001</td>\n",
       "      <td>2.00</td>\n",
       "    </tr>\n",
       "    <tr>\n",
       "      <th>2</th>\n",
       "      <td>0.00010</td>\n",
       "      <td>0.99</td>\n",
       "    </tr>\n",
       "    <tr>\n",
       "      <th>3</th>\n",
       "      <td>-1.00000</td>\n",
       "      <td>1.00</td>\n",
       "    </tr>\n",
       "    <tr>\n",
       "      <th>4</th>\n",
       "      <td>0.00001</td>\n",
       "      <td>2.00</td>\n",
       "    </tr>\n",
       "    <tr>\n",
       "      <th>5</th>\n",
       "      <td>0.00010</td>\n",
       "      <td>0.99</td>\n",
       "    </tr>\n",
       "    <tr>\n",
       "      <th>6</th>\n",
       "      <td>-1.00000</td>\n",
       "      <td>1.00</td>\n",
       "    </tr>\n",
       "    <tr>\n",
       "      <th>7</th>\n",
       "      <td>0.00001</td>\n",
       "      <td>2.00</td>\n",
       "    </tr>\n",
       "    <tr>\n",
       "      <th>8</th>\n",
       "      <td>0.00010</td>\n",
       "      <td>0.99</td>\n",
       "    </tr>\n",
       "    <tr>\n",
       "      <th>9</th>\n",
       "      <td>10000.00000</td>\n",
       "      <td>100000.00</td>\n",
       "    </tr>\n",
       "  </tbody>\n",
       "</table>\n",
       "</div>"
      ],
      "text/plain": [
       "             0          1\n",
       "0     -1.00000       1.00\n",
       "1      0.00001       2.00\n",
       "2      0.00010       0.99\n",
       "3     -1.00000       1.00\n",
       "4      0.00001       2.00\n",
       "5      0.00010       0.99\n",
       "6     -1.00000       1.00\n",
       "7      0.00001       2.00\n",
       "8      0.00010       0.99\n",
       "9  10000.00000  100000.00"
      ]
     },
     "execution_count": 8,
     "metadata": {},
     "output_type": "execute_result"
    }
   ],
   "source": [
    "varBound = []\n",
    "muBound = [-1.0, 1.0]\n",
    "sigmaBound = [1e-5, 2.0]\n",
    "if k != 1:\n",
    "    piBound = [1e-4,0.99]\n",
    "else:\n",
    "    piBound = [1, 1]\n",
    "lmbdaBound = [1e4,1e5]\n",
    "for i in range(k):\n",
    "    varBound.append(muBound)\n",
    "    varBound.append(sigmaBound)\n",
    "    varBound.append(piBound)\n",
    "varBound.append(lmbdaBound)\n",
    "varBound = np.array(varBound)\n",
    "pd.DataFrame(varBound)"
   ]
  },
  {
   "cell_type": "code",
   "execution_count": 9,
   "id": "9cf56d94",
   "metadata": {},
   "outputs": [
    {
     "name": "stdout",
     "output_type": "stream",
     "text": [
      " The best solution found:                                                                           \n",
      " [-1.41024103e-01  1.20899179e-01  2.74480121e-01  2.79466232e-02\n",
      "  1.31417824e-01  5.41970397e-01  1.47294835e-01  2.30864141e-01\n",
      "  1.83519720e-01  1.09155480e+04]\n",
      "\n",
      " Objective function:\n",
      " 48.28140042725576\n"
     ]
    },
    {
     "data": {
      "image/png": "[encoded data removed]",
      "text/plain": [
       "<Figure size 432x288 with 1 Axes>"
      ]
     },
     "metadata": {
      "needs_background": "light"
     },
     "output_type": "display_data"
    }
   ],
   "source": [
    "algorithm_param = {'max_num_iteration': 1000,\\\n",
    "                   'population_size':100,\\\n",
    "                   'mutation_probability':0.1,\\\n",
    "                   'elit_ratio': 0.01,\\\n",
    "                   'crossover_probability': 0.5,\\\n",
    "                   'parents_portion': 0.3,\\\n",
    "                   'crossover_type':'uniform',\\\n",
    "                   'max_iteration_without_improv':None}\n",
    "model = GA(function=lagrange, dimension=3*k+1,\\\n",
    "              variable_type='real',\\\n",
    "              variable_boundaries=varBound,\n",
    "             algorithm_parameters=algorithm_param)\n",
    "model.run()"
   ]
  },
  {
   "cell_type": "code",
   "execution_count": 10,
   "id": "131ff089",
   "metadata": {},
   "outputs": [],
   "source": [
    "coef = model.best_variable[:-1]\n",
    "#coef = coef.reshape(4, 3)\n",
    "#coef = pd.DataFrame(coef)\n",
    "#coef"
   ]
  },
  {
   "cell_type": "code",
   "execution_count": 11,
   "id": "4e37ec0c",
   "metadata": {},
   "outputs": [
    {
     "name": "stdout",
     "output_type": "stream",
     "text": [
      "[[-0.1410241   0.12089918  0.27448012]\n",
      " [ 0.02794662  0.13141782  0.5419704 ]\n",
      " [ 0.14729483  0.23086414  0.18351972]]\n"
     ]
    }
   ],
   "source": [
    "theta = coef.reshape(3, 3)\n",
    "print(theta)"
   ]
  },
  {
   "cell_type": "code",
   "execution_count": 12,
   "id": "d7b3a32e",
   "metadata": {},
   "outputs": [],
   "source": [
    "weight = weight.reshape(3, 1)"
   ]
  },
  {
   "cell_type": "code",
   "execution_count": 13,
   "id": "49efbedd",
   "metadata": {},
   "outputs": [
    {
     "name": "stdout",
     "output_type": "stream",
     "text": [
      "[-0.14890661  0.12651819  0.35845899]\n",
      "-0.1489066115970257 0.12651819051227542 0.35845899459006886\n"
     ]
    }
   ],
   "source": [
    "### Question 4\n",
    "theta = np.hstack((mean, sigma, weight))\n",
    "print(theta[0])\n",
    "a, b, c = theta[0]\n",
    "print(a,b,c)"
   ]
  },
  {
   "cell_type": "code",
   "execution_count": 33,
   "id": "9cdb53e8",
   "metadata": {},
   "outputs": [
    {
     "data": {
      "text/plain": [
       "array([[ 0.0908,  0.213 ,  0.25  ],\n",
       "       [ 0.197 ,  0.316 ,  0.029 ],\n",
       "       [-0.046 ,  0.142 ,  0.718 ]])"
      ]
     },
     "execution_count": 33,
     "metadata": {},
     "output_type": "execute_result"
    }
   ],
   "source": [
    "theta = np.array([0.0908, 0.213, 0.25,\n",
    "    0.197, 0.316, 0.029,\n",
    "    -0.046, 0.142, 0.718])\n",
    "\n",
    "theta = theta.reshape(3, 3)\n",
    "theta"
   ]
  },
  {
   "cell_type": "code",
   "execution_count": 30,
   "id": "cd0723eb",
   "metadata": {},
   "outputs": [],
   "source": [
    "best_regime = []\n",
    "mcp = []\n",
    "for i in range(data.shape[0]):\n",
    "    f_j = []\n",
    "    for j in range(k):\n",
    "        Mu, Sigma = theta[j, 0], theta[j, 1]\n",
    "        f_j.append(theta[j, 2] * NormalDist(mu = Mu, sigma = Sigma).pdf(data[i,0]))\n",
    "        if f_j[-1] >= max(f_j):\n",
    "            best_regime_i = j\n",
    "    mcp_i = max(f_j)/sum(f_j)\n",
    "    best_regime.append(best_regime_i)\n",
    "    mcp.append(mcp_i)"
   ]
  },
  {
   "cell_type": "code",
   "execution_count": 31,
   "id": "81c9b76a",
   "metadata": {},
   "outputs": [],
   "source": [
    "transition = np.zeros(shape = (3, 3))\n",
    "row_0_sum = 0\n",
    "row_1_sum = 0\n",
    "row_2_sum = 0\n",
    "for i in range(len(best_regime)-1):\n",
    "    if best_regime[i] == 0:\n",
    "        row_0_sum +=1\n",
    "        if best_regime[i+1] == 0:\n",
    "            transition[0,0] += 1\n",
    "        elif best_regime[i+1] == 1:\n",
    "            transition[0, 1] += 1\n",
    "        else:\n",
    "            transition[0, 2] += 1\n",
    "    elif best_regime[i] == 1:\n",
    "        row_1_sum +=1\n",
    "        if best_regime[i+1] == 0:\n",
    "            transition[1,0] += 1\n",
    "        elif best_regime[i+1] == 1:\n",
    "            transition[1, 1] += 1\n",
    "        else:\n",
    "            transition[1, 2] += 1\n",
    "    else:\n",
    "        row_2_sum += 1\n",
    "        if best_regime[i+1] == 0:\n",
    "            transition[2,0] += 1\n",
    "        elif best_regime[i+1] == 1:\n",
    "            transition[2, 1] += 1\n",
    "        else:\n",
    "            transition[2, 2] += 1\n",
    "transition[0,:] = transition[0,:]/row_0_sum\n",
    "transition[1,:] = transition[1,:]/row_1_sum\n",
    "transition[2,:] = transition[2,:]/row_2_sum\n",
    "\n"
   ]
  },
  {
   "cell_type": "code",
   "execution_count": 32,
   "id": "6f225431",
   "metadata": {},
   "outputs": [
    {
     "data": {
      "text/plain": [
       "array([[0.20930233, 0.        , 0.79069767],\n",
       "       [0.        , 0.        , 1.        ],\n",
       "       [0.10828025, 0.00318471, 0.88853503]])"
      ]
     },
     "execution_count": 32,
     "metadata": {},
     "output_type": "execute_result"
    }
   ],
   "source": [
    "transition"
   ]
  },
  {
   "cell_type": "code",
   "execution_count": null,
   "id": "80fbc7cd",
   "metadata": {},
   "outputs": [],
   "source": []
  }
 ],
 "metadata": {
  "kernelspec": {
   "display_name": "Python 3 (ipykernel)",
   "language": "python",
   "name": "python3"
  },
  "language_info": {
   "codemirror_mode": {
    "name": "ipython",
    "version": 3
   },
   "file_extension": ".py",
   "mimetype": "text/x-python",
   "name": "python",
   "nbconvert_exporter": "python",
   "pygments_lexer": "ipython3",
   "version": "3.10.1"
  }
 },
 "nbformat": 4,
 "nbformat_minor": 5
}
